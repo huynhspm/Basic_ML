{
  "cells": [
    {
      "cell_type": "markdown",
      "metadata": {
        "id": "view-in-github",
        "colab_type": "text"
      },
      "source": [
        "<a href=\"https://colab.research.google.com/github/huynhspm/Basic_ML/blob/main/Number%20Classification/Mnist_Project.ipynb\" target=\"_parent\"><img src=\"https://colab.research.google.com/assets/colab-badge.svg\" alt=\"Open In Colab\"/></a>"
      ]
    },
    {
      "cell_type": "markdown",
      "source": [
        "# **Number Classification Project**"
      ],
      "metadata": {
        "id": "gc6PAL9qPlCu"
      },
      "id": "gc6PAL9qPlCu"
    },
    {
      "cell_type": "code",
      "execution_count": 8,
      "metadata": {
        "id": "c665e1d9"
      },
      "outputs": [],
      "source": [
        "# 1. Thêm các thư viện cần thiết\n",
        "import numpy as np\n",
        "import random\n",
        "import matplotlib.pyplot as plt\n",
        "import tensorflow as tf\n",
        "\n",
        "from sklearn.linear_model import LogisticRegression\n",
        "from sklearn import neighbors\n",
        "from sklearn.svm import SVC\n",
        "from sklearn.metrics import accuracy_score\n",
        "\n",
        "from tensorflow import keras\n",
        "from keras.datasets import mnist\n",
        "from keras.models import Sequential\n",
        "from keras.layers import Dense, Activation, Flatten, Dropout\n",
        "from keras.layers import Conv2D, MaxPooling2D\n",
        "from keras.preprocessing.image import ImageDataGenerator\n",
        "from keras.callbacks import EarlyStopping, ReduceLROnPlateau\n",
        "\n",
        "import time"
      ],
      "id": "c665e1d9"
    },
    {
      "cell_type": "code",
      "execution_count": 24,
      "metadata": {
        "id": "0660d0ad",
        "colab": {
          "base_uri": "https://localhost:8080/"
        },
        "outputId": "be6acc4e-1496-48c4-a6eb-b475f913bfab"
      },
      "outputs": [
        {
          "output_type": "stream",
          "name": "stdout",
          "text": [
            "(60000, 28, 28) (10000, 28, 28)\n",
            "(60000,) (10000,)\n"
          ]
        }
      ],
      "source": [
        "# 2. Load dữ liệu MNIST\n",
        "(X_train, y_train), (X_test, y_test) = mnist.load_data()\n",
        "\n",
        "img_width = 28\n",
        "img_height = 28\n",
        "img_channel = 1\n",
        "\n",
        "label = ['0', '1', '2', '3', '4', '5', '6', '7', '8', '9']\n",
        "\n",
        "print(X_train.shape, X_test.shape)\n",
        "print(y_train.shape, y_test.shape)"
      ],
      "id": "0660d0ad"
    },
    {
      "cell_type": "code",
      "source": [
        "# 3. show image\n",
        "def get_ten_random_images():\n",
        "  d = {}\n",
        "  while len(d.keys()) < 10:\n",
        "      idx = random.randint(0, len(y_train)-1)\n",
        "      if y_train[idx] not in d.keys():\n",
        "          d[y_train[idx]] = idx\n",
        "  return d\n",
        "\n",
        "d = get_ten_random_images()\n",
        "rows = 2\n",
        "cols = 5\n",
        "fig, axes = plt.subplots(rows, cols, figsize = (15,6))\n",
        "axes = axes.ravel()\n",
        "for i in range(1, rows*cols+1):\n",
        "    axes[i-1].imshow(X_train[d[i-1]], cmap = 'gray')\n",
        "    axes[i-1].axis('off')\n",
        "    axes[i-1].set_title(label[i-1], fontsize=15)\n",
        "fig.suptitle('10 Random Images from Dataset of each class', fontsize = 10)\n",
        "plt.show()"
      ],
      "metadata": {
        "id": "tKtxl-hWlYDV",
        "outputId": "669210b3-107b-4a09-cfa8-2542aa9c3507",
        "colab": {
          "base_uri": "https://localhost:8080/",
          "height": 398
        }
      },
      "id": "tKtxl-hWlYDV",
      "execution_count": 3,
      "outputs": [
        {
          "output_type": "display_data",
          "data": {
            "text/plain": [
              "<Figure size 1080x432 with 10 Axes>"
            ],
            "image/png": "[encoded data removed]"
          },
          "metadata": {
            "needs_background": "light"
          }
        }
      ]
    },
    {
      "cell_type": "markdown",
      "source": [
        "# **Classify with k_nearest_neighbors**"
      ],
      "metadata": {
        "id": "BCqPQQzJPhkU"
      },
      "id": "BCqPQQzJPhkU"
    },
    {
      "cell_type": "code",
      "source": [
        "# 1. prepare data\n",
        "X_train = X_train.reshape(X_train.shape[0], 784)\n",
        "X_test = X_test.reshape(X_test.shape[0], 784)\n",
        "\n",
        "print(X_train.shape)"
      ],
      "metadata": {
        "colab": {
          "base_uri": "https://localhost:8080/"
        },
        "id": "KlrWAbwwAQHc",
        "outputId": "94e79bd7-823e-446a-cc96-9603be39e28d"
      },
      "id": "KlrWAbwwAQHc",
      "execution_count": null,
      "outputs": [
        {
          "output_type": "stream",
          "name": "stdout",
          "text": [
            "(60000, 784)\n"
          ]
        }
      ]
    },
    {
      "cell_type": "code",
      "execution_count": null,
      "metadata": {
        "id": "eb87c054"
      },
      "outputs": [],
      "source": [
        "# 2. build model\n",
        "model_KNN = neighbors.KNeighborsClassifier(n_neighbors = 1, p = 2)"
      ],
      "id": "eb87c054"
    },
    {
      "cell_type": "code",
      "source": [
        "# 3. train model\n",
        "start_time = time.time()\n",
        "model_KNN.fit(X_train, y_train)\n",
        "end_time = time.time()\n",
        "print(\"Running time: %.2f (s)\" % (end_time - start_time))"
      ],
      "metadata": {
        "colab": {
          "base_uri": "https://localhost:8080/"
        },
        "id": "PsJT-d25Cfbx",
        "outputId": "76ec6da3-d466-4ec2-fdfb-5d1b1dc9013f"
      },
      "id": "PsJT-d25Cfbx",
      "execution_count": null,
      "outputs": [
        {
          "output_type": "stream",
          "name": "stdout",
          "text": [
            "Running time: 0.01 (s)\n"
          ]
        }
      ]
    },
    {
      "cell_type": "code",
      "source": [
        "# 4. Đánh giá model với testset\n",
        "start_time = time.time()\n",
        "KNN_pred = model_KNN.predict(X_test)\n",
        "print('KNeighborsClassifier: %d' %(100 * accuracy_score(y_test, KNN_pred)))\n",
        "end_time = time.time()\n",
        "print(\"Running time: %.2f (s)\" % (end_time - start_time))"
      ],
      "metadata": {
        "colab": {
          "base_uri": "https://localhost:8080/"
        },
        "id": "V4kPzzraCvOa",
        "outputId": "6cde6cb3-55ff-490c-f539-3b65dfb0f337"
      },
      "id": "V4kPzzraCvOa",
      "execution_count": null,
      "outputs": [
        {
          "output_type": "stream",
          "name": "stdout",
          "text": [
            "KNeighborsClassifier: 96\n",
            "Running time: 28.93 (s)\n"
          ]
        }
      ]
    },
    {
      "cell_type": "markdown",
      "source": [
        "# **Classify with support vector machine**"
      ],
      "metadata": {
        "id": "S7rJYnNTPtVd"
      },
      "id": "S7rJYnNTPtVd"
    },
    {
      "cell_type": "code",
      "source": [
        "# 1. prepare data\n",
        "X_train = X_train.reshape(X_train.shape[0], 784)\n",
        "X_test = X_test.reshape(X_test.shape[0], 784)\n",
        "\n",
        "print(X_train.shape)"
      ],
      "metadata": {
        "colab": {
          "base_uri": "https://localhost:8080/"
        },
        "id": "gI3B1DLXAm-n",
        "outputId": "f298244e-2daa-40e2-9e5b-e8119bf95f84"
      },
      "id": "gI3B1DLXAm-n",
      "execution_count": null,
      "outputs": [
        {
          "output_type": "stream",
          "name": "stdout",
          "text": [
            "(60000, 784)\n"
          ]
        }
      ]
    },
    {
      "cell_type": "code",
      "execution_count": null,
      "metadata": {
        "id": "880d20f9"
      },
      "outputs": [],
      "source": [
        "# 2. build model\n",
        "model_SVM = SVC(kernel='poly', gamma=1, coef0 = 1)"
      ],
      "id": "880d20f9"
    },
    {
      "cell_type": "code",
      "source": [
        "# 3. train model\n",
        "start_time = time.time()\n",
        "model_SVM.fit(X_train, y_train)\n",
        "end_time = time.time()\n",
        "print(\"Running time: %.2f (s)\" % (end_time - start_time))"
      ],
      "metadata": {
        "colab": {
          "base_uri": "https://localhost:8080/"
        },
        "id": "UxldrqVHEbQN",
        "outputId": "8f65d1d8-ff85-4751-f4fe-b9557e86eeb8"
      },
      "id": "UxldrqVHEbQN",
      "execution_count": null,
      "outputs": [
        {
          "output_type": "stream",
          "name": "stdout",
          "text": [
            "Running time: 162.04 (s)\n"
          ]
        }
      ]
    },
    {
      "cell_type": "code",
      "execution_count": null,
      "metadata": {
        "colab": {
          "base_uri": "https://localhost:8080/"
        },
        "id": "539bf818",
        "outputId": "350962a8-3441-4c65-8cbe-f0a2b6bc7a65"
      },
      "outputs": [
        {
          "output_type": "stream",
          "name": "stdout",
          "text": [
            "KNeighborsClassifier: 97\n",
            "Running time: 33.40 (s)\n"
          ]
        }
      ],
      "source": [
        "# 4. Đánh giá model với testset\n",
        "start_time = time.time()\n",
        "SVM_pred = model_SVM.predict(X_test)\n",
        "print('KNeighborsClassifier: %d' %(100 * accuracy_score(y_test, SVM_pred)))\n",
        "end_time = time.time()\n",
        "print(\"Running time: %.2f (s)\" % (end_time - start_time))"
      ],
      "id": "539bf818"
    },
    {
      "cell_type": "markdown",
      "source": [
        "# **Classify with neural network**"
      ],
      "metadata": {
        "id": "GFO56ivUPyxF"
      },
      "id": "GFO56ivUPyxF"
    },
    {
      "cell_type": "code",
      "source": [
        "# 1. data augmentation\n",
        "X_train = X_train.reshape(X_train.shape[0], 28, 28, 1)\n",
        "X_test = X_test.reshape(X_test.shape[0], 28, 28, 1)\n",
        "\n",
        "aug_train = ImageDataGenerator(rescale=1./255, validation_split=0.2, rotation_range=30, width_shift_range=0.1, \n",
        "                               height_shift_range=0.1, shear_range=0.2, zoom_range=0.2, fill_mode='nearest')\n",
        "aug_test= ImageDataGenerator(rescale=1./255)\n",
        "\n",
        "train_generator = aug_train.flow(X_train, y_train, batch_size=32, subset='training')\n",
        "val_generator = aug_train.flow(X_train, y_train, batch_size=32, subset='validation')\n",
        "test_generator = aug_test.flow(X_train, y_train, batch_size=32)"
      ],
      "metadata": {
        "id": "ibXHppcZBCHM"
      },
      "id": "ibXHppcZBCHM",
      "execution_count": 19,
      "outputs": []
    },
    {
      "cell_type": "code",
      "source": [
        "# 2. build model\n",
        "model_NN = Sequential()\n",
        "model_NN.add(Flatten(input_shape=(img_width, img_height, img_channel)))\n",
        "model_NN.add(Dense(128, activation=\"relu\"))\n",
        "model_NN.add(Dense(10, activation=\"softmax\"))\n",
        "\n",
        "model_NN.compile(loss='sparse_categorical_crossentropy', optimizer='adam', metrics=['accuracy'])\n",
        "model_NN.summary()"
      ],
      "metadata": {
        "colab": {
          "base_uri": "https://localhost:8080/"
        },
        "id": "XR1C6T1ZFAIo",
        "outputId": "a73eb0a3-972b-4d03-a241-ed79799337fd"
      },
      "id": "XR1C6T1ZFAIo",
      "execution_count": 61,
      "outputs": [
        {
          "output_type": "stream",
          "name": "stdout",
          "text": [
            "Model: \"sequential_6\"\n",
            "_________________________________________________________________\n",
            " Layer (type)                Output Shape              Param #   \n",
            "=================================================================\n",
            " flatten_5 (Flatten)         (None, 784)               0         \n",
            "                                                                 \n",
            " dense_10 (Dense)            (None, 128)               100480    \n",
            "                                                                 \n",
            " dense_11 (Dense)            (None, 10)                1290      \n",
            "                                                                 \n",
            "=================================================================\n",
            "Total params: 101,770\n",
            "Trainable params: 101,770\n",
            "Non-trainable params: 0\n",
            "_________________________________________________________________\n"
          ]
        }
      ]
    },
    {
      "cell_type": "code",
      "source": [
        "# 3. train model\n",
        "start_time = time.time()\n",
        "\n",
        "numOfEpoch = 20\n",
        "earlystop = EarlyStopping(patience = 10)\n",
        "learning_rate_reduction = ReduceLROnPlateau(monitor = 'val_accuracy', patience = 2,\n",
        "                                            verbose = 1, factor = 0.5, min_lr = 0.00001)\n",
        "\n",
        "H_NN = model_NN.fit(train_generator, epochs = numOfEpoch, validation_data = val_generator, \n",
        "               verbose=1, callbacks=[earlystop,learning_rate_reduction])\n",
        "\n",
        "end_time = time.time()\n",
        "print(\"Running time: %.2f (s)\" % (end_time - start_time))"
      ],
      "metadata": {
        "colab": {
          "base_uri": "https://localhost:8080/"
        },
        "id": "_JaoxTXqFB7i",
        "outputId": "7099f46d-7e7b-4c2d-ecdc-987a61051263"
      },
      "id": "_JaoxTXqFB7i",
      "execution_count": 62,
      "outputs": [
        {
          "output_type": "stream",
          "name": "stdout",
          "text": [
            "Epoch 1/20\n",
            "1500/1500 [==============================] - 23s 15ms/step - loss: 0.8331 - accuracy: 0.7429 - val_loss: 0.4723 - val_accuracy: 0.8599 - lr: 0.0010\n",
            "Epoch 2/20\n",
            "1500/1500 [==============================] - 21s 14ms/step - loss: 0.4220 - accuracy: 0.8731 - val_loss: 0.3650 - val_accuracy: 0.8898 - lr: 0.0010\n",
            "Epoch 3/20\n",
            "1500/1500 [==============================] - 22s 14ms/step - loss: 0.3434 - accuracy: 0.8968 - val_loss: 0.3082 - val_accuracy: 0.9086 - lr: 0.0010\n",
            "Epoch 4/20\n",
            "1500/1500 [==============================] - 21s 14ms/step - loss: 0.3062 - accuracy: 0.9086 - val_loss: 0.3034 - val_accuracy: 0.9064 - lr: 0.0010\n",
            "Epoch 5/20\n",
            "1500/1500 [==============================] - 21s 14ms/step - loss: 0.2784 - accuracy: 0.9163 - val_loss: 0.2874 - val_accuracy: 0.9107 - lr: 0.0010\n",
            "Epoch 6/20\n",
            "1500/1500 [==============================] - 21s 14ms/step - loss: 0.2683 - accuracy: 0.9212 - val_loss: 0.2553 - val_accuracy: 0.9239 - lr: 0.0010\n",
            "Epoch 7/20\n",
            "1500/1500 [==============================] - 21s 14ms/step - loss: 0.2517 - accuracy: 0.9234 - val_loss: 0.2410 - val_accuracy: 0.9255 - lr: 0.0010\n",
            "Epoch 8/20\n",
            "1500/1500 [==============================] - 21s 14ms/step - loss: 0.2402 - accuracy: 0.9270 - val_loss: 0.2351 - val_accuracy: 0.9287 - lr: 0.0010\n",
            "Epoch 9/20\n",
            "1500/1500 [==============================] - 21s 14ms/step - loss: 0.2362 - accuracy: 0.9301 - val_loss: 0.2305 - val_accuracy: 0.9350 - lr: 0.0010\n",
            "Epoch 10/20\n",
            "1500/1500 [==============================] - 20s 13ms/step - loss: 0.2265 - accuracy: 0.9317 - val_loss: 0.2333 - val_accuracy: 0.9321 - lr: 0.0010\n",
            "Epoch 11/20\n",
            "1496/1500 [============================>.] - ETA: 0s - loss: 0.2251 - accuracy: 0.9329\n",
            "Epoch 11: ReduceLROnPlateau reducing learning rate to 0.0005000000237487257.\n",
            "1500/1500 [==============================] - 20s 13ms/step - loss: 0.2248 - accuracy: 0.9330 - val_loss: 0.2183 - val_accuracy: 0.9346 - lr: 0.0010\n",
            "Epoch 12/20\n",
            "1500/1500 [==============================] - 20s 13ms/step - loss: 0.2008 - accuracy: 0.9401 - val_loss: 0.1949 - val_accuracy: 0.9420 - lr: 5.0000e-04\n",
            "Epoch 13/20\n",
            "1500/1500 [==============================] - 21s 14ms/step - loss: 0.1913 - accuracy: 0.9415 - val_loss: 0.1916 - val_accuracy: 0.9421 - lr: 5.0000e-04\n",
            "Epoch 14/20\n",
            "1500/1500 [==============================] - 20s 14ms/step - loss: 0.1862 - accuracy: 0.9440 - val_loss: 0.1951 - val_accuracy: 0.9444 - lr: 5.0000e-04\n",
            "Epoch 15/20\n",
            "1500/1500 [==============================] - 20s 13ms/step - loss: 0.1856 - accuracy: 0.9432 - val_loss: 0.1873 - val_accuracy: 0.9458 - lr: 5.0000e-04\n",
            "Epoch 16/20\n",
            "1500/1500 [==============================] - 20s 14ms/step - loss: 0.1840 - accuracy: 0.9450 - val_loss: 0.1892 - val_accuracy: 0.9416 - lr: 5.0000e-04\n",
            "Epoch 17/20\n",
            "1500/1500 [==============================] - 20s 13ms/step - loss: 0.1795 - accuracy: 0.9459 - val_loss: 0.1840 - val_accuracy: 0.9460 - lr: 5.0000e-04\n",
            "Epoch 18/20\n",
            "1500/1500 [==============================] - 20s 14ms/step - loss: 0.1793 - accuracy: 0.9466 - val_loss: 0.1916 - val_accuracy: 0.9416 - lr: 5.0000e-04\n",
            "Epoch 19/20\n",
            "1500/1500 [==============================] - 20s 14ms/step - loss: 0.1806 - accuracy: 0.9461 - val_loss: 0.1892 - val_accuracy: 0.9465 - lr: 5.0000e-04\n",
            "Epoch 20/20\n",
            "1500/1500 [==============================] - 20s 14ms/step - loss: 0.1759 - accuracy: 0.9481 - val_loss: 0.1783 - val_accuracy: 0.9478 - lr: 5.0000e-04\n",
            "Running time: 414.68 (s)\n"
          ]
        }
      ]
    },
    {
      "cell_type": "code",
      "source": [
        "# 4. Vẽ đồ thị loss của traning set và validation set\n",
        "plt.plot(np.arange(0, numOfEpoch), H_NN.history['loss'], label='training loss')\n",
        "plt.plot(np.arange(0, numOfEpoch), H_NN.history['val_loss'], label='validation loss')\n",
        "plt.title('Loss')\n",
        "plt.xlabel('Epoch')\n",
        "plt.ylabel('Loss')\n",
        "plt.legend()"
      ],
      "metadata": {
        "colab": {
          "base_uri": "https://localhost:8080/",
          "height": 312
        },
        "id": "_DWkzyx3RjXw",
        "outputId": "84e17b59-c94c-4cf1-f286-27a25abc4cdc"
      },
      "id": "_DWkzyx3RjXw",
      "execution_count": 63,
      "outputs": [
        {
          "output_type": "execute_result",
          "data": {
            "text/plain": [
              "<matplotlib.legend.Legend at 0x7fe8be03a990>"
            ]
          },
          "metadata": {},
          "execution_count": 63
        },
        {
          "output_type": "display_data",
          "data": {
            "text/plain": [
              "<Figure size 432x288 with 1 Axes>"
            ],
            "image/png": "[encoded data removed]"
          },
          "metadata": {
            "needs_background": "light"
          }
        }
      ]
    },
    {
      "cell_type": "code",
      "source": [
        "# 5. Vẽ đồ thị accuracy của traning set và validation set\n",
        "plt.plot(np.arange(0, numOfEpoch), H_NN.history['accuracy'], label='accuracy')\n",
        "plt.plot(np.arange(0, numOfEpoch), H_NN.history['val_accuracy'], label='validation accuracy')\n",
        "plt.title('Accuracy')\n",
        "plt.xlabel('Epoch')\n",
        "plt.ylabel('Accuracy')\n",
        "plt.legend()"
      ],
      "metadata": {
        "colab": {
          "base_uri": "https://localhost:8080/",
          "height": 312
        },
        "id": "du7JBSOJbFqw",
        "outputId": "3eedd4ef-434d-482d-b97a-0b40b5c83871"
      },
      "id": "du7JBSOJbFqw",
      "execution_count": 64,
      "outputs": [
        {
          "output_type": "execute_result",
          "data": {
            "text/plain": [
              "<matplotlib.legend.Legend at 0x7fe8a6802e50>"
            ]
          },
          "metadata": {},
          "execution_count": 64
        },
        {
          "output_type": "display_data",
          "data": {
            "text/plain": [
              "<Figure size 432x288 with 1 Axes>"
            ],
            "image/png": "[encoded data removed]"
          },
          "metadata": {
            "needs_background": "light"
          }
        }
      ]
    },
    {
      "cell_type": "code",
      "source": [
        "# 6. Đánh giá model với testset\n",
        "start_time = time.time()\n",
        "print('[loss, accuracy]', model_NN.evaluate(test_generator, verbose = 0))\n",
        "end_time = time.time()\n",
        "print(\"Running time: %.2f (s)\" % (end_time - start_time))"
      ],
      "metadata": {
        "colab": {
          "base_uri": "https://localhost:8080/"
        },
        "id": "5dx-wfAMFDkz",
        "outputId": "68000347-9a05-4666-adf0-96362369ff16"
      },
      "id": "5dx-wfAMFDkz",
      "execution_count": 68,
      "outputs": [
        {
          "output_type": "stream",
          "name": "stdout",
          "text": [
            "[loss, accuracy] [0.08149799704551697, 0.9743333458900452]\n",
            "Running time: 4.64 (s)\n"
          ]
        }
      ]
    },
    {
      "cell_type": "markdown",
      "source": [
        "# **Classify with convolutional neural network**"
      ],
      "metadata": {
        "id": "FQkaC9PvP-Qq"
      },
      "id": "FQkaC9PvP-Qq"
    },
    {
      "cell_type": "code",
      "source": [
        "# 1. data augmentation\n",
        "X_train = X_train.reshape(X_train.shape[0], 28, 28, 1)\n",
        "X_test = X_test.reshape(X_test.shape[0], 28, 28, 1)\n",
        "\n",
        "aug_train = ImageDataGenerator(rescale=1./255, validation_split=0.2, rotation_range=30, width_shift_range=0.1, \n",
        "                               height_shift_range=0.1, shear_range=0.2, zoom_range=0.2, fill_mode='nearest')\n",
        "aug_test= ImageDataGenerator(rescale=1./255)\n",
        "\n",
        "train_generator = aug_train.flow(X_train, y_train, batch_size=32, subset='training')\n",
        "val_generator = aug_train.flow(X_train, y_train, batch_size=32, subset='validation')\n",
        "test_generator = aug_test.flow(X_train, y_train, batch_size=32)"
      ],
      "metadata": {
        "id": "o7p0SwQHBJTe"
      },
      "id": "o7p0SwQHBJTe",
      "execution_count": 35,
      "outputs": []
    },
    {
      "cell_type": "code",
      "source": [
        "# 2. build model\n",
        "model_CNN = Sequential()\n",
        " \n",
        "model_CNN.add(Conv2D(32, (3, 3), activation='relu', input_shape=(img_width, img_height, img_channel)))\n",
        "model_CNN.add(Conv2D(32, (3, 3), activation='relu'))\n",
        "model_CNN.add(MaxPooling2D(pool_size=(2,2)))\n",
        "\n",
        "model_CNN.add(Flatten())\n",
        "\n",
        "model_CNN.add(Dense(128, activation='relu'))\n",
        "model_CNN.add(Dense(10, activation='softmax'))\n",
        "\n",
        "model_CNN.compile(loss='sparse_categorical_crossentropy', optimizer='adam', metrics=['accuracy'])\n",
        "\n",
        "model_CNN.summary()"
      ],
      "metadata": {
        "colab": {
          "base_uri": "https://localhost:8080/"
        },
        "id": "xW10pJt5BK1g",
        "outputId": "7379660d-6f00-4a99-f53f-1dfc6ad58dc0"
      },
      "id": "xW10pJt5BK1g",
      "execution_count": 36,
      "outputs": [
        {
          "output_type": "stream",
          "name": "stdout",
          "text": [
            "Model: \"sequential_5\"\n",
            "_________________________________________________________________\n",
            " Layer (type)                Output Shape              Param #   \n",
            "=================================================================\n",
            " conv2d (Conv2D)             (None, 26, 26, 32)        320       \n",
            "                                                                 \n",
            " conv2d_1 (Conv2D)           (None, 24, 24, 32)        9248      \n",
            "                                                                 \n",
            " max_pooling2d (MaxPooling2D  (None, 12, 12, 32)       0         \n",
            " )                                                               \n",
            "                                                                 \n",
            " flatten_4 (Flatten)         (None, 4608)              0         \n",
            "                                                                 \n",
            " dense_8 (Dense)             (None, 128)               589952    \n",
            "                                                                 \n",
            " dense_9 (Dense)             (None, 10)                1290      \n",
            "                                                                 \n",
            "=================================================================\n",
            "Total params: 600,810\n",
            "Trainable params: 600,810\n",
            "Non-trainable params: 0\n",
            "_________________________________________________________________\n"
          ]
        }
      ]
    },
    {
      "cell_type": "code",
      "source": [
        "# 3. train model\n",
        "start_time = time.time()\n",
        "\n",
        "numOfEpoch = 30\n",
        "earlystop = EarlyStopping(patience = 10)\n",
        "learning_rate_reduction = ReduceLROnPlateau(monitor = 'val_accuracy', patience = 2,\n",
        "                                            verbose = 1, factor = 0.5, min_lr = 0.00001)\n",
        "\n",
        "H_CNN = model_CNN.fit(train_generator, epochs = numOfEpoch, validation_data = val_generator, \n",
        "               verbose=1, callbacks=[earlystop,learning_rate_reduction])\n",
        "\n",
        "end_time = time.time()\n",
        "print(\"Running time: %.2f (s)\" % (end_time - start_time))"
      ],
      "metadata": {
        "colab": {
          "base_uri": "https://localhost:8080/"
        },
        "id": "pMHRDlIdGj8k",
        "outputId": "d4ff98a3-cd20-42f9-cb29-2f0e25f83320"
      },
      "id": "pMHRDlIdGj8k",
      "execution_count": 38,
      "outputs": [
        {
          "output_type": "stream",
          "name": "stdout",
          "text": [
            "Epoch 1/30\n",
            "1500/1500 [==============================] - 31s 15ms/step - loss: 0.3868 - accuracy: 0.8780 - val_loss: 0.1922 - val_accuracy: 0.9417 - lr: 0.0010\n",
            "Epoch 2/30\n",
            "1500/1500 [==============================] - 22s 14ms/step - loss: 0.1445 - accuracy: 0.9563 - val_loss: 0.1453 - val_accuracy: 0.9576 - lr: 0.0010\n",
            "Epoch 3/30\n",
            "1500/1500 [==============================] - 22s 15ms/step - loss: 0.1085 - accuracy: 0.9663 - val_loss: 0.1036 - val_accuracy: 0.9693 - lr: 0.0010\n",
            "Epoch 4/30\n",
            "1500/1500 [==============================] - 24s 16ms/step - loss: 0.0952 - accuracy: 0.9701 - val_loss: 0.0850 - val_accuracy: 0.9741 - lr: 0.0010\n",
            "Epoch 5/30\n",
            "1500/1500 [==============================] - 22s 14ms/step - loss: 0.0828 - accuracy: 0.9740 - val_loss: 0.0871 - val_accuracy: 0.9732 - lr: 0.0010\n",
            "Epoch 6/30\n",
            "1500/1500 [==============================] - 22s 15ms/step - loss: 0.0779 - accuracy: 0.9760 - val_loss: 0.0766 - val_accuracy: 0.9770 - lr: 0.0010\n",
            "Epoch 7/30\n",
            "1500/1500 [==============================] - 22s 14ms/step - loss: 0.0691 - accuracy: 0.9780 - val_loss: 0.0658 - val_accuracy: 0.9803 - lr: 0.0010\n",
            "Epoch 8/30\n",
            "1500/1500 [==============================] - 21s 14ms/step - loss: 0.0639 - accuracy: 0.9804 - val_loss: 0.0647 - val_accuracy: 0.9795 - lr: 0.0010\n",
            "Epoch 9/30\n",
            "1498/1500 [============================>.] - ETA: 0s - loss: 0.0624 - accuracy: 0.9807\n",
            "Epoch 9: ReduceLROnPlateau reducing learning rate to 0.0005000000237487257.\n",
            "1500/1500 [==============================] - 21s 14ms/step - loss: 0.0623 - accuracy: 0.9807 - val_loss: 0.0695 - val_accuracy: 0.9801 - lr: 0.0010\n",
            "Epoch 10/30\n",
            "1500/1500 [==============================] - 21s 14ms/step - loss: 0.0463 - accuracy: 0.9860 - val_loss: 0.0560 - val_accuracy: 0.9833 - lr: 5.0000e-04\n",
            "Epoch 11/30\n",
            "1500/1500 [==============================] - 22s 15ms/step - loss: 0.0446 - accuracy: 0.9862 - val_loss: 0.0566 - val_accuracy: 0.9833 - lr: 5.0000e-04\n",
            "Epoch 12/30\n",
            "1500/1500 [==============================] - 21s 14ms/step - loss: 0.0447 - accuracy: 0.9866 - val_loss: 0.0498 - val_accuracy: 0.9848 - lr: 5.0000e-04\n",
            "Epoch 13/30\n",
            "1500/1500 [==============================] - 22s 14ms/step - loss: 0.0442 - accuracy: 0.9861 - val_loss: 0.0471 - val_accuracy: 0.9868 - lr: 5.0000e-04\n",
            "Epoch 14/30\n",
            "1500/1500 [==============================] - 21s 14ms/step - loss: 0.0416 - accuracy: 0.9873 - val_loss: 0.0527 - val_accuracy: 0.9841 - lr: 5.0000e-04\n",
            "Epoch 15/30\n",
            "1499/1500 [============================>.] - ETA: 0s - loss: 0.0416 - accuracy: 0.9875\n",
            "Epoch 15: ReduceLROnPlateau reducing learning rate to 0.0002500000118743628.\n",
            "1500/1500 [==============================] - 21s 14ms/step - loss: 0.0417 - accuracy: 0.9875 - val_loss: 0.0457 - val_accuracy: 0.9862 - lr: 5.0000e-04\n",
            "Epoch 16/30\n",
            "1500/1500 [==============================] - 21s 14ms/step - loss: 0.0349 - accuracy: 0.9891 - val_loss: 0.0469 - val_accuracy: 0.9859 - lr: 2.5000e-04\n",
            "Epoch 17/30\n",
            "1500/1500 [==============================] - ETA: 0s - loss: 0.0329 - accuracy: 0.9896\n",
            "Epoch 17: ReduceLROnPlateau reducing learning rate to 0.0001250000059371814.\n",
            "1500/1500 [==============================] - 21s 14ms/step - loss: 0.0329 - accuracy: 0.9896 - val_loss: 0.0474 - val_accuracy: 0.9868 - lr: 2.5000e-04\n",
            "Epoch 18/30\n",
            "1500/1500 [==============================] - 21s 14ms/step - loss: 0.0314 - accuracy: 0.9897 - val_loss: 0.0383 - val_accuracy: 0.9877 - lr: 1.2500e-04\n",
            "Epoch 19/30\n",
            "1500/1500 [==============================] - 21s 14ms/step - loss: 0.0300 - accuracy: 0.9902 - val_loss: 0.0377 - val_accuracy: 0.9891 - lr: 1.2500e-04\n",
            "Epoch 20/30\n",
            "1500/1500 [==============================] - 21s 14ms/step - loss: 0.0301 - accuracy: 0.9911 - val_loss: 0.0369 - val_accuracy: 0.9890 - lr: 1.2500e-04\n",
            "Epoch 21/30\n",
            "1496/1500 [============================>.] - ETA: 0s - loss: 0.0314 - accuracy: 0.9902\n",
            "Epoch 21: ReduceLROnPlateau reducing learning rate to 6.25000029685907e-05.\n",
            "1500/1500 [==============================] - 23s 15ms/step - loss: 0.0313 - accuracy: 0.9902 - val_loss: 0.0404 - val_accuracy: 0.9877 - lr: 1.2500e-04\n",
            "Epoch 22/30\n",
            "1500/1500 [==============================] - 21s 14ms/step - loss: 0.0269 - accuracy: 0.9918 - val_loss: 0.0383 - val_accuracy: 0.9878 - lr: 6.2500e-05\n",
            "Epoch 23/30\n",
            "1499/1500 [============================>.] - ETA: 0s - loss: 0.0274 - accuracy: 0.9914\n",
            "Epoch 23: ReduceLROnPlateau reducing learning rate to 3.125000148429535e-05.\n",
            "1500/1500 [==============================] - 21s 14ms/step - loss: 0.0274 - accuracy: 0.9914 - val_loss: 0.0389 - val_accuracy: 0.9879 - lr: 6.2500e-05\n",
            "Epoch 24/30\n",
            "1500/1500 [==============================] - 21s 14ms/step - loss: 0.0277 - accuracy: 0.9918 - val_loss: 0.0361 - val_accuracy: 0.9897 - lr: 3.1250e-05\n",
            "Epoch 25/30\n",
            "1500/1500 [==============================] - 21s 14ms/step - loss: 0.0279 - accuracy: 0.9919 - val_loss: 0.0347 - val_accuracy: 0.9902 - lr: 3.1250e-05\n",
            "Epoch 26/30\n",
            "1500/1500 [==============================] - 21s 14ms/step - loss: 0.0260 - accuracy: 0.9920 - val_loss: 0.0337 - val_accuracy: 0.9901 - lr: 3.1250e-05\n",
            "Epoch 27/30\n",
            "1497/1500 [============================>.] - ETA: 0s - loss: 0.0271 - accuracy: 0.9918\n",
            "Epoch 27: ReduceLROnPlateau reducing learning rate to 1.5625000742147677e-05.\n",
            "1500/1500 [==============================] - 21s 14ms/step - loss: 0.0271 - accuracy: 0.9918 - val_loss: 0.0342 - val_accuracy: 0.9896 - lr: 3.1250e-05\n",
            "Epoch 28/30\n",
            "1500/1500 [==============================] - 21s 14ms/step - loss: 0.0261 - accuracy: 0.9918 - val_loss: 0.0316 - val_accuracy: 0.9898 - lr: 1.5625e-05\n",
            "Epoch 29/30\n",
            "1500/1500 [==============================] - ETA: 0s - loss: 0.0256 - accuracy: 0.9918\n",
            "Epoch 29: ReduceLROnPlateau reducing learning rate to 1e-05.\n",
            "1500/1500 [==============================] - 21s 14ms/step - loss: 0.0256 - accuracy: 0.9918 - val_loss: 0.0390 - val_accuracy: 0.9893 - lr: 1.5625e-05\n",
            "Epoch 30/30\n",
            "1500/1500 [==============================] - 21s 14ms/step - loss: 0.0279 - accuracy: 0.9916 - val_loss: 0.0350 - val_accuracy: 0.9884 - lr: 1.0000e-05\n",
            "Running time: 692.74 (s)\n"
          ]
        }
      ]
    },
    {
      "cell_type": "code",
      "source": [
        "# 4. Vẽ đồ thị loss của traning set và validation set\n",
        "plt.plot(np.arange(0, numOfEpoch), H_CNN.history['loss'], label='training loss')\n",
        "plt.plot(np.arange(0, numOfEpoch), H_CNN.history['val_loss'], label='validation loss')\n",
        "plt.title('Loss')\n",
        "plt.xlabel('Epoch')\n",
        "plt.ylabel('Loss')\n",
        "plt.legend()"
      ],
      "metadata": {
        "colab": {
          "base_uri": "https://localhost:8080/",
          "height": 312
        },
        "id": "lSzZb58uMRe-",
        "outputId": "a411de03-ca4e-406b-a450-f5d551f14e2c"
      },
      "id": "lSzZb58uMRe-",
      "execution_count": 48,
      "outputs": [
        {
          "output_type": "execute_result",
          "data": {
            "text/plain": [
              "<matplotlib.legend.Legend at 0x7fe8c005c850>"
            ]
          },
          "metadata": {},
          "execution_count": 48
        },
        {
          "output_type": "display_data",
          "data": {
            "text/plain": [
              "<Figure size 432x288 with 1 Axes>"
            ],
            "image/png": "[encoded data removed]"
          },
          "metadata": {
            "needs_background": "light"
          }
        }
      ]
    },
    {
      "cell_type": "code",
      "source": [
        "# 5. Vẽ đồ thị accuracy của traning set và validation set\n",
        "plt.plot(np.arange(0, numOfEpoch), H_CNN.history['accuracy'], label='accuracy')\n",
        "plt.plot(np.arange(0, numOfEpoch), H_CNN.history['val_accuracy'], label='validation accuracy')\n",
        "plt.title('Accuracy')\n",
        "plt.xlabel('Epoch')\n",
        "plt.ylabel('Accuracy')\n",
        "plt.legend()"
      ],
      "metadata": {
        "id": "CHqwP72obZA4",
        "colab": {
          "base_uri": "https://localhost:8080/",
          "height": 312
        },
        "outputId": "6cd8e3b8-69dd-465a-ec57-18a43637d857"
      },
      "id": "CHqwP72obZA4",
      "execution_count": 49,
      "outputs": [
        {
          "output_type": "execute_result",
          "data": {
            "text/plain": [
              "<matplotlib.legend.Legend at 0x7fe8c0069190>"
            ]
          },
          "metadata": {},
          "execution_count": 49
        },
        {
          "output_type": "display_data",
          "data": {
            "text/plain": [
              "<Figure size 432x288 with 1 Axes>"
            ],
            "image/png": "[encoded data removed]"
          },
          "metadata": {
            "needs_background": "light"
          }
        }
      ]
    },
    {
      "cell_type": "code",
      "source": [
        "# 6. Đánh giá model với testset\n",
        "start_time = time.time()\n",
        "print('[loss, accuracy]', model_CNN.evaluate(test_generator, verbose = 1))\n",
        "end_time = time.time()\n",
        "print(\"Running time: %.2f (s)\" % (end_time - start_time))"
      ],
      "metadata": {
        "colab": {
          "base_uri": "https://localhost:8080/"
        },
        "id": "46NCW-aUHcUN",
        "outputId": "eb445c71-2ebf-47d2-e8ed-92f294e095bc"
      },
      "id": "46NCW-aUHcUN",
      "execution_count": 51,
      "outputs": [
        {
          "output_type": "stream",
          "name": "stdout",
          "text": [
            "1875/1875 [==============================] - 6s 3ms/step - loss: 0.0151 - accuracy: 0.9955\n",
            "[loss, accuracy] [0.015065585263073444, 0.9954500198364258]\n",
            "Running time: 10.28 (s)\n"
          ]
        }
      ]
    },
    {
      "cell_type": "code",
      "source": [
        "# 7. predict\n",
        "plt.imshow(X_test[0].reshape(img_width, img_height), cmap='gray')\n",
        "\n",
        "y_predict = model_CNN.predict(X_test[0].reshape(1,img_width, img_height, img_channel))\n",
        "print(y_predict)\n",
        "print('Giá trị dự đoán: ', np.argmax(y_predict))"
      ],
      "metadata": {
        "colab": {
          "base_uri": "https://localhost:8080/",
          "height": 300
        },
        "id": "jJY4lHRAQhrk",
        "outputId": "a00c3838-d507-4013-f3b9-d4654c400d7d"
      },
      "id": "jJY4lHRAQhrk",
      "execution_count": 52,
      "outputs": [
        {
          "output_type": "stream",
          "name": "stdout",
          "text": [
            "[[0. 0. 0. 0. 0. 0. 0. 1. 0. 0.]]\n",
            "Giá trị dự đoán:  7\n"
          ]
        },
        {
          "output_type": "display_data",
          "data": {
            "text/plain": [
              "<Figure size 432x288 with 1 Axes>"
            ],
            "image/png": "[encoded data removed]"
          },
          "metadata": {
            "needs_background": "light"
          }
        }
      ]
    },
    {
      "cell_type": "code",
      "source": [
        "# 8. load ảnh\n",
        "from google.colab import files\n",
        "uploaded = files.upload()"
      ],
      "metadata": {
        "colab": {
          "resources": {
            "http://localhost:8080/nbextensions/google.colab/files.js": {
              "data": "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",
              "ok": true,
              "headers": [
                [
                  "content-type",
                  "application/javascript"
                ]
              ],
              "status": 200,
              "status_text": ""
            }
          },
          "base_uri": "https://localhost:8080/",
          "height": 74
        },
        "id": "GEm_Tj99q2cZ",
        "outputId": "bef55c8c-e25e-4e17-f0fa-2d7f45cfbdbe"
      },
      "id": "GEm_Tj99q2cZ",
      "execution_count": 53,
      "outputs": [
        {
          "output_type": "display_data",
          "data": {
            "text/plain": [
              "<IPython.core.display.HTML object>"
            ],
            "text/html": [
              "\n",
              "     <input type=\"file\" id=\"files-dc931eed-fd04-4b63-aed9-a5125448735e\" name=\"files[]\" multiple disabled\n",
              "        style=\"border:none\" />\n",
              "     <output id=\"result-dc931eed-fd04-4b63-aed9-a5125448735e\">\n",
              "      Upload widget is only available when the cell has been executed in the\n",
              "      current browser session. Please rerun this cell to enable.\n",
              "      </output>\n",
              "      <script src=\"/nbextensions/google.colab/files.js\"></script> "
            ]
          },
          "metadata": {}
        },
        {
          "output_type": "stream",
          "name": "stdout",
          "text": [
            "Saving test.jpg to test.jpg\n"
          ]
        }
      ]
    },
    {
      "cell_type": "code",
      "source": [
        "# 9. predict ảnh tự vẽ \n",
        "import cv2\n",
        "img = cv2.imread('test.jpg', cv2.IMREAD_GRAYSCALE)\n",
        "img = cv2.resize(src=img, dsize=(img_width, img_height))\n",
        "plt.imshow(img, cmap='gray')\n",
        "\n",
        "y_pred = model_CNN.predict(img.reshape(1, img_width, img_height, img_channel))\n",
        "print(y_pred)\n",
        "print(np.argmax(y_pred))"
      ],
      "metadata": {
        "colab": {
          "base_uri": "https://localhost:8080/",
          "height": 300
        },
        "id": "bq-t9ObFqHGr",
        "outputId": "72b712ef-0e1f-4375-fa70-1d331506ceac"
      },
      "id": "bq-t9ObFqHGr",
      "execution_count": 58,
      "outputs": [
        {
          "output_type": "stream",
          "name": "stdout",
          "text": [
            "[[0. 0. 0. 0. 0. 0. 1. 0. 0. 0.]]\n",
            "6\n"
          ]
        },
        {
          "output_type": "display_data",
          "data": {
            "text/plain": [
              "<Figure size 432x288 with 1 Axes>"
            ],
            "image/png": "[encoded data removed]"
          },
          "metadata": {
            "needs_background": "light"
          }
        }
      ]
    }
  ],
  "metadata": {
    "colab": {
      "collapsed_sections": [
        "gc6PAL9qPlCu",
        "BCqPQQzJPhkU",
        "S7rJYnNTPtVd",
        "GFO56ivUPyxF",
        "FQkaC9PvP-Qq"
      ],
      "name": "Mnist_Project.ipynb",
      "provenance": [],
      "include_colab_link": true
    },
    "kernelspec": {
      "display_name": "Python 3 (ipykernel)",
      "language": "python",
      "name": "python3"
    },
    "language_info": {
      "codemirror_mode": {
        "name": "ipython",
        "version": 3
      },
      "file_extension": ".py",
      "mimetype": "text/x-python",
      "name": "python",
      "nbconvert_exporter": "python",
      "pygments_lexer": "ipython3",
      "version": "3.10.1"
    },
    "accelerator": "GPU",
    "gpuClass": "standard"
  },
  "nbformat": 4,
  "nbformat_minor": 5
}