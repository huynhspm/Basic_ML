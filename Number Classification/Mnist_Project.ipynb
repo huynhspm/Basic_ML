{
  "cells": [
    {
      "cell_type": "markdown",
      "metadata": {
        "id": "view-in-github",
        "colab_type": "text"
      },
      "source": [
        "<a href=\"https://colab.research.google.com/github/huynhspm/Basic_ML/blob/main/Number%20Classification/Mnist_Project.ipynb\" target=\"_parent\"><img src=\"https://colab.research.google.com/assets/colab-badge.svg\" alt=\"Open In Colab\"/></a>"
      ]
    },
    {
      "cell_type": "markdown",
      "source": [
        "# **Number Classification Project**"
      ],
      "metadata": {
        "id": "gc6PAL9qPlCu"
      },
      "id": "gc6PAL9qPlCu"
    },
    {
      "cell_type": "code",
      "execution_count": 1,
      "metadata": {
        "id": "c665e1d9"
      },
      "outputs": [],
      "source": [
        "# 1. Thêm các thư viện cần thiết\n",
        "import numpy as np\n",
        "import random\n",
        "import matplotlib.pyplot as plt\n",
        "import tensorflow as tf\n",
        "\n",
        "from sklearn.linear_model import LogisticRegression\n",
        "from sklearn import neighbors\n",
        "from sklearn.svm import SVC\n",
        "from sklearn.metrics import accuracy_score\n",
        "\n",
        "from tensorflow import keras\n",
        "from keras.datasets import mnist\n",
        "from keras.models import Sequential\n",
        "from keras.layers import Dense, Activation, Flatten, Dropout\n",
        "from keras.layers import Conv2D, MaxPooling2D\n",
        "from keras.utils import np_utils\n",
        "# from display_network import *\n",
        "import time"
      ],
      "id": "c665e1d9"
    },
    {
      "cell_type": "code",
      "execution_count": 2,
      "metadata": {
        "id": "0660d0ad",
        "colab": {
          "base_uri": "https://localhost:8080/"
        },
        "outputId": "ebfb3b02-c572-4cc4-ebbd-02878ac4a4cc"
      },
      "outputs": [
        {
          "output_type": "stream",
          "name": "stdout",
          "text": [
            "Downloading data from https://storage.googleapis.com/tensorflow/tf-keras-datasets/mnist.npz\n",
            "11493376/11490434 [==============================] - 0s 0us/step\n",
            "11501568/11490434 [==============================] - 0s 0us/step\n",
            "(60000, 28, 28) (10000, 28, 28)\n",
            "(60000,) (10000,)\n"
          ]
        }
      ],
      "source": [
        "# 2. Load dữ liệu MNIST\n",
        "(X_train, y_train), (X_test, y_test) = mnist.load_data()\n",
        "\n",
        "label = ['0', '1', '2', '3', '4', '5', '6', '7', '8', '9']\n",
        "\n",
        "X_train = X_train.astype('float32')\n",
        "X_test = X_test.astype('float32')\n",
        " \n",
        "X_train = X_train/255.0\n",
        "X_test = X_test/255.0\n",
        "\n",
        "print(X_train.shape, X_test.shape)\n",
        "print(y_train.shape, y_test.shape)"
      ],
      "id": "0660d0ad"
    },
    {
      "cell_type": "code",
      "source": [
        "# 3. show image\n",
        "def get_ten_random_images():\n",
        "  d = {}\n",
        "  while len(d.keys()) < 10:\n",
        "      idx = random.randint(0, len(y_train)-1)\n",
        "      if y_train[idx] not in d.keys():\n",
        "          d[y_train[idx]] = idx\n",
        "  return d\n",
        "\n",
        "d = get_ten_random_images()\n",
        "rows = 2\n",
        "cols = 5\n",
        "fig, axes = plt.subplots(rows, cols, figsize = (15,6))\n",
        "axes = axes.ravel()\n",
        "for i in range(1, rows*cols+1):\n",
        "    axes[i-1].imshow(X_train[d[i-1]], cmap = 'gray')\n",
        "    axes[i-1].axis('off')\n",
        "    axes[i-1].set_title(label[i-1], fontsize=15)\n",
        "fig.suptitle('10 Random Images from Dataset of each class', fontsize = 10)\n",
        "plt.show()"
      ],
      "metadata": {
        "id": "tKtxl-hWlYDV",
        "outputId": "b14fde64-3628-40dd-eb5b-f9514559f3ad",
        "colab": {
          "base_uri": "https://localhost:8080/",
          "height": 398
        }
      },
      "id": "tKtxl-hWlYDV",
      "execution_count": 3,
      "outputs": [
        {
          "output_type": "display_data",
          "data": {
            "text/plain": [
              "<Figure size 1080x432 with 10 Axes>"
            ],
            "image/png": "[encoded data removed]"
          },
          "metadata": {
            "needs_background": "light"
          }
        }
      ]
    },
    {
      "cell_type": "markdown",
      "source": [
        "# **Classify with k_nearest_neighbors**"
      ],
      "metadata": {
        "id": "BCqPQQzJPhkU"
      },
      "id": "BCqPQQzJPhkU"
    },
    {
      "cell_type": "code",
      "source": [
        "# 1. prepare data\n",
        "X_train = X_train.reshape(X_train.shape[0], 784)\n",
        "X_test = X_test.reshape(X_test.shape[0], 784)\n",
        "\n",
        "print(X_train.shape)"
      ],
      "metadata": {
        "colab": {
          "base_uri": "https://localhost:8080/"
        },
        "id": "KlrWAbwwAQHc",
        "outputId": "94e79bd7-823e-446a-cc96-9603be39e28d"
      },
      "id": "KlrWAbwwAQHc",
      "execution_count": null,
      "outputs": [
        {
          "output_type": "stream",
          "name": "stdout",
          "text": [
            "(60000, 784)\n"
          ]
        }
      ]
    },
    {
      "cell_type": "code",
      "execution_count": null,
      "metadata": {
        "id": "eb87c054"
      },
      "outputs": [],
      "source": [
        "# 2. build model\n",
        "model_KNN = neighbors.KNeighborsClassifier(n_neighbors = 1, p = 2)"
      ],
      "id": "eb87c054"
    },
    {
      "cell_type": "code",
      "source": [
        "# 3. train model\n",
        "start_time = time.time()\n",
        "model_KNN.fit(X_train, y_train)\n",
        "end_time = time.time()\n",
        "print(\"Running time: %.2f (s)\" % (end_time - start_time))"
      ],
      "metadata": {
        "colab": {
          "base_uri": "https://localhost:8080/"
        },
        "id": "PsJT-d25Cfbx",
        "outputId": "76ec6da3-d466-4ec2-fdfb-5d1b1dc9013f"
      },
      "id": "PsJT-d25Cfbx",
      "execution_count": null,
      "outputs": [
        {
          "output_type": "stream",
          "name": "stdout",
          "text": [
            "Running time: 0.01 (s)\n"
          ]
        }
      ]
    },
    {
      "cell_type": "code",
      "source": [
        "# 4. Đánh giá model với testset\n",
        "start_time = time.time()\n",
        "KNN_pred = model_KNN.predict(X_test)\n",
        "print('KNeighborsClassifier: %d' %(100 * accuracy_score(y_test, KNN_pred)))\n",
        "end_time = time.time()\n",
        "print(\"Running time: %.2f (s)\" % (end_time - start_time))"
      ],
      "metadata": {
        "colab": {
          "base_uri": "https://localhost:8080/"
        },
        "id": "V4kPzzraCvOa",
        "outputId": "6cde6cb3-55ff-490c-f539-3b65dfb0f337"
      },
      "id": "V4kPzzraCvOa",
      "execution_count": null,
      "outputs": [
        {
          "output_type": "stream",
          "name": "stdout",
          "text": [
            "KNeighborsClassifier: 96\n",
            "Running time: 28.93 (s)\n"
          ]
        }
      ]
    },
    {
      "cell_type": "markdown",
      "source": [
        "# **Classify with support vector machine**"
      ],
      "metadata": {
        "id": "S7rJYnNTPtVd"
      },
      "id": "S7rJYnNTPtVd"
    },
    {
      "cell_type": "code",
      "source": [
        "# 1. prepare data\n",
        "X_train = X_train.reshape(X_train.shape[0], 784)\n",
        "X_test = X_test.reshape(X_test.shape[0], 784)\n",
        "\n",
        "print(X_train.shape)"
      ],
      "metadata": {
        "colab": {
          "base_uri": "https://localhost:8080/"
        },
        "id": "gI3B1DLXAm-n",
        "outputId": "f298244e-2daa-40e2-9e5b-e8119bf95f84"
      },
      "id": "gI3B1DLXAm-n",
      "execution_count": null,
      "outputs": [
        {
          "output_type": "stream",
          "name": "stdout",
          "text": [
            "(60000, 784)\n"
          ]
        }
      ]
    },
    {
      "cell_type": "code",
      "execution_count": null,
      "metadata": {
        "id": "880d20f9"
      },
      "outputs": [],
      "source": [
        "# 2. build model\n",
        "model_SVM = SVC(kernel='poly', gamma=1, coef0 = 1)"
      ],
      "id": "880d20f9"
    },
    {
      "cell_type": "code",
      "source": [
        "# 3. train model\n",
        "start_time = time.time()\n",
        "model_SVM.fit(X_train, y_train)\n",
        "end_time = time.time()\n",
        "print(\"Running time: %.2f (s)\" % (end_time - start_time))"
      ],
      "metadata": {
        "colab": {
          "base_uri": "https://localhost:8080/"
        },
        "id": "UxldrqVHEbQN",
        "outputId": "8f65d1d8-ff85-4751-f4fe-b9557e86eeb8"
      },
      "id": "UxldrqVHEbQN",
      "execution_count": null,
      "outputs": [
        {
          "output_type": "stream",
          "name": "stdout",
          "text": [
            "Running time: 162.04 (s)\n"
          ]
        }
      ]
    },
    {
      "cell_type": "code",
      "execution_count": null,
      "metadata": {
        "colab": {
          "base_uri": "https://localhost:8080/"
        },
        "id": "539bf818",
        "outputId": "350962a8-3441-4c65-8cbe-f0a2b6bc7a65"
      },
      "outputs": [
        {
          "output_type": "stream",
          "name": "stdout",
          "text": [
            "KNeighborsClassifier: 97\n",
            "Running time: 33.40 (s)\n"
          ]
        }
      ],
      "source": [
        "# 4. Đánh giá model với testset\n",
        "start_time = time.time()\n",
        "SVM_pred = model_SVM.predict(X_test)\n",
        "print('KNeighborsClassifier: %d' %(100 * accuracy_score(y_test, SVM_pred)))\n",
        "end_time = time.time()\n",
        "print(\"Running time: %.2f (s)\" % (end_time - start_time))"
      ],
      "id": "539bf818"
    },
    {
      "cell_type": "markdown",
      "source": [
        "# **Classify with neural network**"
      ],
      "metadata": {
        "id": "GFO56ivUPyxF"
      },
      "id": "GFO56ivUPyxF"
    },
    {
      "cell_type": "code",
      "source": [
        "# 1. prepare data\n",
        "X_train = X_train.reshape(X_train.shape[0], 28, 28, 1)\n",
        "X_test = X_test.reshape(X_test.shape[0], 28, 28, 1)"
      ],
      "metadata": {
        "id": "ibXHppcZBCHM"
      },
      "id": "ibXHppcZBCHM",
      "execution_count": 17,
      "outputs": []
    },
    {
      "cell_type": "code",
      "source": [
        "# 2. build model\n",
        "model_NN = Sequential()\n",
        "model_NN.add(Flatten(input_shape=(28,28,1)))\n",
        "model_NN.add(Dense(128, activation=\"relu\"))\n",
        "model_NN.add(Dropout(0.2))\n",
        "model_NN.add(Dense(10, activation=\"softmax\"))\n",
        "\n",
        "model_NN.compile(loss='sparse_categorical_crossentropy', optimizer='adam', metrics=['accuracy'])\n",
        "model_NN.summary()"
      ],
      "metadata": {
        "colab": {
          "base_uri": "https://localhost:8080/"
        },
        "id": "XR1C6T1ZFAIo",
        "outputId": "2e98f899-a345-40da-c454-6b92a69befce"
      },
      "id": "XR1C6T1ZFAIo",
      "execution_count": 23,
      "outputs": [
        {
          "output_type": "stream",
          "name": "stdout",
          "text": [
            "Model: \"sequential_2\"\n",
            "_________________________________________________________________\n",
            " Layer (type)                Output Shape              Param #   \n",
            "=================================================================\n",
            " flatten_2 (Flatten)         (None, 784)               0         \n",
            "                                                                 \n",
            " dense_4 (Dense)             (None, 128)               100480    \n",
            "                                                                 \n",
            " dropout (Dropout)           (None, 128)               0         \n",
            "                                                                 \n",
            " dense_5 (Dense)             (None, 10)                1290      \n",
            "                                                                 \n",
            "=================================================================\n",
            "Total params: 101,770\n",
            "Trainable params: 101,770\n",
            "Non-trainable params: 0\n",
            "_________________________________________________________________\n"
          ]
        }
      ]
    },
    {
      "cell_type": "code",
      "source": [
        "# 3. train model\n",
        "start_time = time.time()\n",
        "H_NN = model_NN.fit(X_train, y_train, validation_split=0.2, batch_size=32, epochs=10, verbose=1)\n",
        "end_time = time.time()\n",
        "print(\"Running time: %.2f (s)\" % (end_time - start_time))"
      ],
      "metadata": {
        "colab": {
          "base_uri": "https://localhost:8080/"
        },
        "id": "_JaoxTXqFB7i",
        "outputId": "a1518602-627c-4299-e0d9-63bfa800bfef"
      },
      "id": "_JaoxTXqFB7i",
      "execution_count": 24,
      "outputs": [
        {
          "output_type": "stream",
          "name": "stdout",
          "text": [
            "Epoch 1/10\n",
            "1500/1500 [==============================] - 5s 3ms/step - loss: 0.3224 - accuracy: 0.9066 - val_loss: 0.1535 - val_accuracy: 0.9547\n",
            "Epoch 2/10\n",
            "1500/1500 [==============================] - 4s 3ms/step - loss: 0.1580 - accuracy: 0.9523 - val_loss: 0.1246 - val_accuracy: 0.9605\n",
            "Epoch 3/10\n",
            "1500/1500 [==============================] - 4s 3ms/step - loss: 0.1180 - accuracy: 0.9641 - val_loss: 0.1006 - val_accuracy: 0.9684\n",
            "Epoch 4/10\n",
            "1500/1500 [==============================] - 4s 3ms/step - loss: 0.0954 - accuracy: 0.9707 - val_loss: 0.0936 - val_accuracy: 0.9703\n",
            "Epoch 5/10\n",
            "1500/1500 [==============================] - 4s 3ms/step - loss: 0.0803 - accuracy: 0.9747 - val_loss: 0.0915 - val_accuracy: 0.9714\n",
            "Epoch 6/10\n",
            "1500/1500 [==============================] - 4s 3ms/step - loss: 0.0710 - accuracy: 0.9775 - val_loss: 0.0836 - val_accuracy: 0.9746\n",
            "Epoch 7/10\n",
            "1500/1500 [==============================] - 4s 3ms/step - loss: 0.0623 - accuracy: 0.9802 - val_loss: 0.0850 - val_accuracy: 0.9743\n",
            "Epoch 8/10\n",
            "1500/1500 [==============================] - 4s 3ms/step - loss: 0.0561 - accuracy: 0.9820 - val_loss: 0.0809 - val_accuracy: 0.9761\n",
            "Epoch 9/10\n",
            "1500/1500 [==============================] - 4s 3ms/step - loss: 0.0491 - accuracy: 0.9842 - val_loss: 0.0849 - val_accuracy: 0.9766\n",
            "Epoch 10/10\n",
            "1500/1500 [==============================] - 4s 3ms/step - loss: 0.0470 - accuracy: 0.9844 - val_loss: 0.0793 - val_accuracy: 0.9762\n",
            "Running time: 41.41 (s)\n"
          ]
        }
      ]
    },
    {
      "cell_type": "code",
      "source": [
        "# 4. Vẽ đồ thị loss của traning set và validation set\n",
        "numOfEpoch = 10\n",
        "plt.plot(np.arange(0, numOfEpoch), H_NN.history['loss'], label='training loss')\n",
        "plt.plot(np.arange(0, numOfEpoch), H_NN.history['val_loss'], label='validation loss')\n",
        "plt.title('Loss')\n",
        "plt.xlabel('Epoch')\n",
        "plt.ylabel('Loss')\n",
        "plt.legend()"
      ],
      "metadata": {
        "colab": {
          "base_uri": "https://localhost:8080/",
          "height": 312
        },
        "id": "_DWkzyx3RjXw",
        "outputId": "8a5512de-26de-4bbf-b6e2-b7270c5d2924"
      },
      "id": "_DWkzyx3RjXw",
      "execution_count": 25,
      "outputs": [
        {
          "output_type": "execute_result",
          "data": {
            "text/plain": [
              "<matplotlib.legend.Legend at 0x7fa3620b3210>"
            ]
          },
          "metadata": {},
          "execution_count": 25
        },
        {
          "output_type": "display_data",
          "data": {
            "text/plain": [
              "<Figure size 432x288 with 1 Axes>"
            ],
            "image/png": "[encoded data removed]"
          },
          "metadata": {
            "needs_background": "light"
          }
        }
      ]
    },
    {
      "cell_type": "code",
      "source": [
        "# 5. Vẽ đồ thị accuracy của traning set và validation set\n",
        "numOfEpoch = 10\n",
        "plt.plot(np.arange(0, numOfEpoch), H_NN.history['accuracy'], label='accuracy')\n",
        "plt.plot(np.arange(0, numOfEpoch), H_NN.history['val_accuracy'], label='validation accuracy')\n",
        "plt.title('Accuracy')\n",
        "plt.xlabel('Epoch')\n",
        "plt.ylabel('Accuracy')\n",
        "plt.legend()"
      ],
      "metadata": {
        "colab": {
          "base_uri": "https://localhost:8080/",
          "height": 312
        },
        "id": "du7JBSOJbFqw",
        "outputId": "818ec73b-5193-45f8-cb09-e98a9aee5d30"
      },
      "id": "du7JBSOJbFqw",
      "execution_count": 26,
      "outputs": [
        {
          "output_type": "execute_result",
          "data": {
            "text/plain": [
              "<matplotlib.legend.Legend at 0x7fa2ba07dfd0>"
            ]
          },
          "metadata": {},
          "execution_count": 26
        },
        {
          "output_type": "display_data",
          "data": {
            "text/plain": [
              "<Figure size 432x288 with 1 Axes>"
            ],
            "image/png": "[encoded data removed]"
          },
          "metadata": {
            "needs_background": "light"
          }
        }
      ]
    },
    {
      "cell_type": "code",
      "source": [
        "# 6. Đánh giá model với testset\n",
        "start_time = time.time()\n",
        "print('[loss, accuracy]', model_NN.evaluate(X_test, y_test, verbose = 0))\n",
        "end_time = time.time()\n",
        "print(\"Running time: %.2f (s)\" % (end_time - start_time))"
      ],
      "metadata": {
        "colab": {
          "base_uri": "https://localhost:8080/"
        },
        "id": "5dx-wfAMFDkz",
        "outputId": "66b0d3fe-453a-4065-d6e7-02212edb210e"
      },
      "id": "5dx-wfAMFDkz",
      "execution_count": 27,
      "outputs": [
        {
          "output_type": "stream",
          "name": "stdout",
          "text": [
            "[loss, accuracy] [0.07989504933357239, 0.9771999716758728]\n",
            "Running time: 1.42 (s)\n"
          ]
        }
      ]
    },
    {
      "cell_type": "markdown",
      "source": [
        "# **Classify with convolutional neural network**"
      ],
      "metadata": {
        "id": "FQkaC9PvP-Qq"
      },
      "id": "FQkaC9PvP-Qq"
    },
    {
      "cell_type": "code",
      "source": [
        "# 1. prepare data\n",
        "X_train = X_train.reshape(X_train.shape[0], 28, 28, 1)\n",
        "X_test = X_test.reshape(X_test.shape[0], 28, 28, 1)"
      ],
      "metadata": {
        "id": "o7p0SwQHBJTe"
      },
      "id": "o7p0SwQHBJTe",
      "execution_count": 4,
      "outputs": []
    },
    {
      "cell_type": "code",
      "source": [
        "# 2. build model\n",
        "model_CNN = Sequential()\n",
        " \n",
        "# Thêm Convolutional layer với 32 kernel, kích thước kernel 3*3\n",
        "# dùng hàm sigmoid làm activation và chỉ rõ input_shape cho layer đầu tiên\n",
        "model_CNN.add(Conv2D(32, (3, 3), activation='sigmoid', input_shape=(28,28,1)))\n",
        "\n",
        "# Thêm Convolutional layer\n",
        "model_CNN.add(Conv2D(32, (3, 3), activation='sigmoid'))\n",
        "\n",
        "# Thêm Max pooling layer\n",
        "model_CNN.add(MaxPooling2D(pool_size=(2,2)))\n",
        "\n",
        "# Flatten layer chuyển từ tensor sang vector\n",
        "model_CNN.add(Flatten())\n",
        "\n",
        "# Thêm Fully Connected layer với 128 nodes và dùng hàm sigmoid\n",
        "model_CNN.add(Dense(128, activation='sigmoid'))\n",
        "\n",
        "# Output layer với 10 node và dùng softmax function để chuyển sang xác xuất.\n",
        "model_CNN.add(Dense(10, activation='softmax'))\n",
        "\n",
        "model_CNN.compile(loss='sparse_categorical_crossentropy', optimizer='adam', metrics=['accuracy'])\n",
        "\n",
        "model_CNN.summary()"
      ],
      "metadata": {
        "colab": {
          "base_uri": "https://localhost:8080/"
        },
        "id": "xW10pJt5BK1g",
        "outputId": "07cdb06d-d2a8-480e-cb31-43644d9e275c"
      },
      "id": "xW10pJt5BK1g",
      "execution_count": 5,
      "outputs": [
        {
          "output_type": "stream",
          "name": "stdout",
          "text": [
            "Model: \"sequential\"\n",
            "_________________________________________________________________\n",
            " Layer (type)                Output Shape              Param #   \n",
            "=================================================================\n",
            " conv2d (Conv2D)             (None, 26, 26, 32)        320       \n",
            "                                                                 \n",
            " conv2d_1 (Conv2D)           (None, 24, 24, 32)        9248      \n",
            "                                                                 \n",
            " max_pooling2d (MaxPooling2D  (None, 12, 12, 32)       0         \n",
            " )                                                               \n",
            "                                                                 \n",
            " flatten (Flatten)           (None, 4608)              0         \n",
            "                                                                 \n",
            " dense (Dense)               (None, 128)               589952    \n",
            "                                                                 \n",
            " dense_1 (Dense)             (None, 10)                1290      \n",
            "                                                                 \n",
            "=================================================================\n",
            "Total params: 600,810\n",
            "Trainable params: 600,810\n",
            "Non-trainable params: 0\n",
            "_________________________________________________________________\n"
          ]
        }
      ]
    },
    {
      "cell_type": "code",
      "source": [
        "# 3. train model\n",
        "start_time = time.time()\n",
        "H_CNN = model_CNN.fit(X_train, y_train, validation_split=0.2, batch_size=32, epochs=10, verbose=1)\n",
        "end_time = time.time()\n",
        "print(\"Running time: %.2f (s)\" % (end_time - start_time))"
      ],
      "metadata": {
        "colab": {
          "base_uri": "https://localhost:8080/"
        },
        "id": "pMHRDlIdGj8k",
        "outputId": "89b0166a-88ba-4ab3-dd70-cb2cdec370ad"
      },
      "id": "pMHRDlIdGj8k",
      "execution_count": 6,
      "outputs": [
        {
          "output_type": "stream",
          "name": "stdout",
          "text": [
            "Epoch 1/10\n",
            "1500/1500 [==============================] - 17s 4ms/step - loss: 0.5512 - accuracy: 0.8203 - val_loss: 0.1905 - val_accuracy: 0.9449\n",
            "Epoch 2/10\n",
            "1500/1500 [==============================] - 6s 4ms/step - loss: 0.1603 - accuracy: 0.9534 - val_loss: 0.1300 - val_accuracy: 0.9626\n",
            "Epoch 3/10\n",
            "1500/1500 [==============================] - 5s 3ms/step - loss: 0.1113 - accuracy: 0.9680 - val_loss: 0.1162 - val_accuracy: 0.9657\n",
            "Epoch 4/10\n",
            "1500/1500 [==============================] - 5s 3ms/step - loss: 0.0806 - accuracy: 0.9770 - val_loss: 0.0868 - val_accuracy: 0.9742\n",
            "Epoch 5/10\n",
            "1500/1500 [==============================] - 5s 3ms/step - loss: 0.0589 - accuracy: 0.9834 - val_loss: 0.0763 - val_accuracy: 0.9762\n",
            "Epoch 6/10\n",
            "1500/1500 [==============================] - 6s 4ms/step - loss: 0.0428 - accuracy: 0.9879 - val_loss: 0.0585 - val_accuracy: 0.9822\n",
            "Epoch 7/10\n",
            "1500/1500 [==============================] - 5s 3ms/step - loss: 0.0331 - accuracy: 0.9905 - val_loss: 0.0592 - val_accuracy: 0.9819\n",
            "Epoch 8/10\n",
            "1500/1500 [==============================] - 6s 4ms/step - loss: 0.0238 - accuracy: 0.9938 - val_loss: 0.0551 - val_accuracy: 0.9827\n",
            "Epoch 9/10\n",
            "1500/1500 [==============================] - 5s 3ms/step - loss: 0.0180 - accuracy: 0.9954 - val_loss: 0.0566 - val_accuracy: 0.9817\n",
            "Epoch 10/10\n",
            "1500/1500 [==============================] - 6s 4ms/step - loss: 0.0134 - accuracy: 0.9968 - val_loss: 0.0534 - val_accuracy: 0.9841\n",
            "Running time: 66.33 (s)\n"
          ]
        }
      ]
    },
    {
      "cell_type": "code",
      "source": [
        "# 4. Vẽ đồ thị loss của traning set và validation set\n",
        "numOfEpoch = 10\n",
        "plt.plot(np.arange(0, numOfEpoch), H_CNN.history['loss'], label='training loss')\n",
        "plt.plot(np.arange(0, numOfEpoch), H_CNN.history['val_loss'], label='validation loss')\n",
        "plt.title('Loss')\n",
        "plt.xlabel('Epoch')\n",
        "plt.ylabel('Loss')\n",
        "plt.legend()"
      ],
      "metadata": {
        "colab": {
          "base_uri": "https://localhost:8080/",
          "height": 312
        },
        "id": "lSzZb58uMRe-",
        "outputId": "72fdd30c-7dd6-4bfc-c6df-5c5f93f1be50"
      },
      "id": "lSzZb58uMRe-",
      "execution_count": 7,
      "outputs": [
        {
          "output_type": "execute_result",
          "data": {
            "text/plain": [
              "<matplotlib.legend.Legend at 0x7fa38a3b6b50>"
            ]
          },
          "metadata": {},
          "execution_count": 7
        },
        {
          "output_type": "display_data",
          "data": {
            "text/plain": [
              "<Figure size 432x288 with 1 Axes>"
            ],
            "image/png": "[encoded data removed]"
          },
          "metadata": {
            "needs_background": "light"
          }
        }
      ]
    },
    {
      "cell_type": "code",
      "source": [
        "# 5. Vẽ đồ thị accuracy của traning set và validation set\n",
        "numOfEpoch = 10\n",
        "plt.plot(np.arange(0, numOfEpoch), H_CNN.history['accuracy'], label='accuracy')\n",
        "plt.plot(np.arange(0, numOfEpoch), H_CNN.history['val_accuracy'], label='validation accuracy')\n",
        "plt.title('Accuracy')\n",
        "plt.xlabel('Epoch')\n",
        "plt.ylabel('Accuracy')\n",
        "plt.legend()"
      ],
      "metadata": {
        "id": "CHqwP72obZA4",
        "colab": {
          "base_uri": "https://localhost:8080/",
          "height": 312
        },
        "outputId": "35305938-2dfe-48d0-a6b9-2be0d91ce290"
      },
      "id": "CHqwP72obZA4",
      "execution_count": 8,
      "outputs": [
        {
          "output_type": "execute_result",
          "data": {
            "text/plain": [
              "<matplotlib.legend.Legend at 0x7fa38a156d10>"
            ]
          },
          "metadata": {},
          "execution_count": 8
        },
        {
          "output_type": "display_data",
          "data": {
            "text/plain": [
              "<Figure size 432x288 with 1 Axes>"
            ],
            "image/png": "[encoded data removed]"
          },
          "metadata": {
            "needs_background": "light"
          }
        }
      ]
    },
    {
      "cell_type": "code",
      "source": [
        "# 6. Đánh giá model với testset\n",
        "start_time = time.time()\n",
        "print('[loss, accuracy]', model_CNN.evaluate(X_test, y_test, verbose = 1))\n",
        "end_time = time.time()\n",
        "print(\"Running time: %.2f (s)\" % (end_time - start_time))"
      ],
      "metadata": {
        "colab": {
          "base_uri": "https://localhost:8080/"
        },
        "id": "46NCW-aUHcUN",
        "outputId": "679cb2a8-b63e-45cf-ed06-0c8bbdb5e5b3"
      },
      "id": "46NCW-aUHcUN",
      "execution_count": 9,
      "outputs": [
        {
          "output_type": "stream",
          "name": "stdout",
          "text": [
            "313/313 [==============================] - 1s 3ms/step - loss: 0.0572 - accuracy: 0.9824\n",
            "[loss, accuracy] [0.05723072588443756, 0.9824000000953674]\n",
            "Running time: 1.21 (s)\n"
          ]
        }
      ]
    },
    {
      "cell_type": "code",
      "source": [
        "# 7. predict\n",
        "plt.imshow(X_test[0].reshape(28,28), cmap='gray')\n",
        "\n",
        "y_predict = model_CNN.predict(X_test[0].reshape(1,28,28,1))\n",
        "print(y_predict)\n",
        "print('Giá trị dự đoán: ', np.argmax(y_predict))"
      ],
      "metadata": {
        "colab": {
          "base_uri": "https://localhost:8080/",
          "height": 317
        },
        "id": "jJY4lHRAQhrk",
        "outputId": "c304baa7-0e02-47b9-f5ee-a11299bef094"
      },
      "id": "jJY4lHRAQhrk",
      "execution_count": 10,
      "outputs": [
        {
          "output_type": "stream",
          "name": "stdout",
          "text": [
            "[[3.5393636e-08 2.7138034e-07 7.5154230e-07 2.0926876e-05 7.6943723e-09\n",
            "  2.3411026e-09 1.7752024e-11 9.9997783e-01 4.9554369e-08 2.1397311e-07]]\n",
            "Giá trị dự đoán:  7\n"
          ]
        },
        {
          "output_type": "display_data",
          "data": {
            "text/plain": [
              "<Figure size 432x288 with 1 Axes>"
            ],
            "image/png": "[encoded data removed]"
          },
          "metadata": {
            "needs_background": "light"
          }
        }
      ]
    },
    {
      "cell_type": "code",
      "source": [
        "# 8. load ảnh\n",
        "from google.colab import files\n",
        "uploaded = files.upload()"
      ],
      "metadata": {
        "colab": {
          "resources": {
            "http://localhost:8080/nbextensions/google.colab/files.js": {
              "data": "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",
              "ok": true,
              "headers": [
                [
                  "content-type",
                  "application/javascript"
                ]
              ],
              "status": 200,
              "status_text": ""
            }
          },
          "base_uri": "https://localhost:8080/",
          "height": 74
        },
        "id": "GEm_Tj99q2cZ",
        "outputId": "557b23b7-c261-4d3a-8138-aff000315f85"
      },
      "id": "GEm_Tj99q2cZ",
      "execution_count": 15,
      "outputs": [
        {
          "output_type": "display_data",
          "data": {
            "text/plain": [
              "<IPython.core.display.HTML object>"
            ],
            "text/html": [
              "\n",
              "     <input type=\"file\" id=\"files-d65d5137-6549-4e6a-9ceb-3940e2e10b6b\" name=\"files[]\" multiple disabled\n",
              "        style=\"border:none\" />\n",
              "     <output id=\"result-d65d5137-6549-4e6a-9ceb-3940e2e10b6b\">\n",
              "      Upload widget is only available when the cell has been executed in the\n",
              "      current browser session. Please rerun this cell to enable.\n",
              "      </output>\n",
              "      <script src=\"/nbextensions/google.colab/files.js\"></script> "
            ]
          },
          "metadata": {}
        },
        {
          "output_type": "stream",
          "name": "stdout",
          "text": [
            "Saving test.png to test.png\n"
          ]
        }
      ]
    },
    {
      "cell_type": "code",
      "source": [
        "# 9. predict ảnh tự vẽ \n",
        "import cv2\n",
        "img = cv2.imread('test.png', cv2.IMREAD_GRAYSCALE)\n",
        "plt.imshow(img, cmap='gray')\n",
        "\n",
        "y_pred = model_CNN.predict(img.reshape(1, 28, 28, 1))\n",
        "print(np.argmax(y_pred))"
      ],
      "metadata": {
        "colab": {
          "base_uri": "https://localhost:8080/",
          "height": 282
        },
        "id": "bq-t9ObFqHGr",
        "outputId": "50a8f6ec-0b37-4e39-c019-efa0085f7537"
      },
      "id": "bq-t9ObFqHGr",
      "execution_count": 16,
      "outputs": [
        {
          "output_type": "stream",
          "name": "stdout",
          "text": [
            "5\n"
          ]
        },
        {
          "output_type": "display_data",
          "data": {
            "text/plain": [
              "<Figure size 432x288 with 1 Axes>"
            ],
            "image/png": "[encoded data removed]"
          },
          "metadata": {
            "needs_background": "light"
          }
        }
      ]
    }
  ],
  "metadata": {
    "colab": {
      "collapsed_sections": [
        "gc6PAL9qPlCu",
        "BCqPQQzJPhkU",
        "S7rJYnNTPtVd",
        "GFO56ivUPyxF",
        "FQkaC9PvP-Qq"
      ],
      "name": "Mnist_Project.ipynb",
      "provenance": [],
      "include_colab_link": true
    },
    "kernelspec": {
      "display_name": "Python 3 (ipykernel)",
      "language": "python",
      "name": "python3"
    },
    "language_info": {
      "codemirror_mode": {
        "name": "ipython",
        "version": 3
      },
      "file_extension": ".py",
      "mimetype": "text/x-python",
      "name": "python",
      "nbconvert_exporter": "python",
      "pygments_lexer": "ipython3",
      "version": "3.10.1"
    },
    "accelerator": "GPU",
    "gpuClass": "standard"
  },
  "nbformat": 4,
  "nbformat_minor": 5
}